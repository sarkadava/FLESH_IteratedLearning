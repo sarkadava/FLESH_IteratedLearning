{
 "cells": [
  {
   "cell_type": "markdown",
   "metadata": {},
   "source": [
    "# Step 0: setting up the folders\n",
    "We'll first the folders and videofiles, extract the audio from it, and initalize some packages."
   ]
  },
  {
   "cell_type": "code",
   "execution_count": 48,
   "metadata": {},
   "outputs": [
    {
     "name": "stdout",
     "output_type": "stream",
     "text": [
      "Requirement already satisfied: moviepy in c:\\users\\kadava\\appdata\\local\\anaconda3\\envs\\iteratedlearning\\lib\\site-packages (1.0.3)\n",
      "Requirement already satisfied: decorator<5.0,>=4.0.2 in c:\\users\\kadava\\appdata\\local\\anaconda3\\envs\\iteratedlearning\\lib\\site-packages (from moviepy) (4.4.2)\n",
      "Requirement already satisfied: tqdm<5.0,>=4.11.2 in c:\\users\\kadava\\appdata\\local\\anaconda3\\envs\\iteratedlearning\\lib\\site-packages (from moviepy) (4.66.4)\n",
      "Requirement already satisfied: requests<3.0,>=2.8.1 in c:\\users\\kadava\\appdata\\local\\anaconda3\\envs\\iteratedlearning\\lib\\site-packages (from moviepy) (2.32.3)\n",
      "Requirement already satisfied: proglog<=1.0.0 in c:\\users\\kadava\\appdata\\local\\anaconda3\\envs\\iteratedlearning\\lib\\site-packages (from moviepy) (0.1.10)\n",
      "Requirement already satisfied: numpy>=1.17.3 in c:\\users\\kadava\\appdata\\local\\anaconda3\\envs\\iteratedlearning\\lib\\site-packages (from moviepy) (2.0.0)\n",
      "Requirement already satisfied: imageio<3.0,>=2.5 in c:\\users\\kadava\\appdata\\local\\anaconda3\\envs\\iteratedlearning\\lib\\site-packages (from moviepy) (2.34.2)\n",
      "Requirement already satisfied: imageio-ffmpeg>=0.2.0 in c:\\users\\kadava\\appdata\\local\\anaconda3\\envs\\iteratedlearning\\lib\\site-packages (from moviepy) (0.5.1)\n",
      "Requirement already satisfied: pillow>=8.3.2 in c:\\users\\kadava\\appdata\\local\\anaconda3\\envs\\iteratedlearning\\lib\\site-packages (from imageio<3.0,>=2.5->moviepy) (10.4.0)\n",
      "Requirement already satisfied: setuptools in c:\\users\\kadava\\appdata\\local\\anaconda3\\envs\\iteratedlearning\\lib\\site-packages (from imageio-ffmpeg>=0.2.0->moviepy) (69.5.1)\n",
      "Requirement already satisfied: charset-normalizer<4,>=2 in c:\\users\\kadava\\appdata\\local\\anaconda3\\envs\\iteratedlearning\\lib\\site-packages (from requests<3.0,>=2.8.1->moviepy) (3.3.2)\n",
      "Requirement already satisfied: idna<4,>=2.5 in c:\\users\\kadava\\appdata\\local\\anaconda3\\envs\\iteratedlearning\\lib\\site-packages (from requests<3.0,>=2.8.1->moviepy) (3.7)\n",
      "Requirement already satisfied: urllib3<3,>=1.21.1 in c:\\users\\kadava\\appdata\\local\\anaconda3\\envs\\iteratedlearning\\lib\\site-packages (from requests<3.0,>=2.8.1->moviepy) (2.2.2)\n",
      "Requirement already satisfied: certifi>=2017.4.17 in c:\\users\\kadava\\appdata\\local\\anaconda3\\envs\\iteratedlearning\\lib\\site-packages (from requests<3.0,>=2.8.1->moviepy) (2024.7.4)\n",
      "Requirement already satisfied: colorama in c:\\users\\kadava\\appdata\\local\\anaconda3\\envs\\iteratedlearning\\lib\\site-packages (from tqdm<5.0,>=4.11.2->moviepy) (0.4.6)\n",
      "Note: you may need to restart the kernel to use updated packages.\n",
      "The following folder is set as the output folder where all the pose time series are stored\n",
      "c:\\Users\\kadava\\Documents\\Github\\FLESH_IteratedLearning\\TS_processed\n",
      "\n",
      " The following folder is set as the output folder for saving the masked videos \n",
      "c:\\Users\\kadava\\Documents\\Github\\FLESH_IteratedLearning\\Animated_Videos\n",
      "\n",
      " The following video(s) will be processed for masking: \n",
      "['Donner_g_ch1_g10_compr_clean.mp4', 'Donner_g_ch1_g11_compr_clean.mp4', 'Donner_g_ch1_g12_compr_clean.mp4', 'Donner_g_ch1_g13_compr_clean.mp4', 'Donner_g_ch1_g14_compr_clean.mp4', 'Donner_g_ch1_g15_compr_clean.mp4', 'Donner_g_ch1_g16_compr_clean.mp4', 'Donner_g_ch1_g17_compr_clean.mp4', 'Donner_g_ch1_g18_compr_clean.mp4', 'Donner_g_ch1_g19_compr_clean.mp4', 'Donner_g_ch1_g1_compr_clean.mp4', 'Donner_g_ch1_g20_compr_clean.mp4', 'Donner_g_ch1_g2_compr_clean.mp4', 'Donner_g_ch1_g3_compr_clean.mp4', 'Donner_g_ch1_g4_compr_clean.mp4', 'Donner_g_ch1_g5_compr_clean.mp4', 'Donner_g_ch1_g6_compr_clean.mp4', 'Donner_g_ch1_g7_compr_clean.mp4', 'Donner_g_ch1_g8_compr_clean.mp4', 'Donner_g_ch1_g9_compr_clean.mp4', 'Donner_g_ch2_g10_compr_clean.mp4', 'Donner_g_ch2_g11_compr_clean.mp4', 'Donner_g_ch2_g12_compr_clean.mp4', 'Donner_g_ch2_g13_compr_clean.mp4', 'Donner_g_ch2_g14_compr_clean.mp4', 'Donner_g_ch2_g15_compr_clean.mp4', 'Donner_g_ch2_g16_compr_clean.mp4', 'Donner_g_ch2_g17_compr_clean.mp4', 'Donner_g_ch2_g18_compr_clean.mp4', 'Donner_g_ch2_g19_compr_clean.mp4', 'Donner_g_ch2_g1_compr_clean.mp4', 'Donner_g_ch2_g20_compr_clean.mp4', 'Donner_g_ch2_g2_compr_clean.mp4', 'Donner_g_ch2_g3_compr_clean.mp4', 'Donner_g_ch2_g4_compr_clean.mp4', 'Donner_g_ch2_g5_compr_clean.mp4', 'Donner_g_ch2_g6_compr_clean.mp4', 'Donner_g_ch2_g7_compr_clean.mp4', 'Donner_g_ch2_g8_compr_clean.mp4', 'Donner_g_ch2_g9_compr_clean.mp4', 'Donner_g_ch3_g10_compr_clean.mp4', 'Donner_g_ch3_g11_compr_clean.mp4', 'Donner_g_ch3_g12_compr_clean.mp4', 'Donner_g_ch3_g13_compr_clean.mp4', 'Donner_g_ch3_g14_compr_clean.mp4', 'Donner_g_ch3_g15_compr_clean.mp4', 'Donner_g_ch3_g16_compr_clean.mp4', 'Donner_g_ch3_g17_compr_clean.mp4', 'Donner_g_ch3_g18_compr_clean.mp4', 'Donner_g_ch3_g19_compr_clean.mp4', 'Donner_g_ch3_g1_compr_clean.mp4', 'Donner_g_ch3_g20_compr_clean.mp4', 'Donner_g_ch3_g2_compr_clean.mp4', 'Donner_g_ch3_g3_compr_clean.mp4', 'Donner_g_ch3_g4_compr_clean.mp4', 'Donner_g_ch3_g5_compr_clean.mp4', 'Donner_g_ch3_g6_compr_clean.mp4', 'Donner_g_ch3_g7_compr_clean.mp4', 'Donner_g_ch3_g8_compr_clean.mp4', 'Donner_g_ch3_g9_compr_clean.mp4', 'kalt_g_ch1_g10_compr_clean.mp4', 'kalt_g_ch1_g11_compr_clean.mp4', 'kalt_g_ch1_g12_compr_clean.mp4', 'kalt_g_ch1_g13_compr_clean.mp4', 'kalt_g_ch1_g14_compr_clean.mp4', 'kalt_g_ch1_g15_compr_clean.mp4', 'kalt_g_ch1_g16_compr_clean.mp4', 'kalt_g_ch1_g17_compr_clean.mp4', 'kalt_g_ch1_g18_compr_clean.mp4', 'kalt_g_ch1_g19_compr_clean.mp4', 'kalt_g_ch1_g1_compr_clean.mp4', 'kalt_g_ch1_g20_compr_clean.mp4', 'kalt_g_ch1_g2_compr_clean.mp4', 'kalt_g_ch1_g3_compr_clean.mp4', 'kalt_g_ch1_g4_compr_clean.mp4', 'kalt_g_ch1_g5_compr_clean.mp4', 'kalt_g_ch1_g6_compr_clean.mp4', 'kalt_g_ch1_g7_compr_clean.mp4', 'kalt_g_ch1_g8_compr_clean.mp4', 'kalt_g_ch1_g9_compr_clean.mp4', 'kalt_g_ch2_g10_compr_clean.mp4', 'kalt_g_ch2_g11_compr_clean.mp4', 'kalt_g_ch2_g12_compr_clean.mp4', 'kalt_g_ch2_g13_compr_clean.mp4', 'kalt_g_ch2_g14_compr_clean.mp4', 'kalt_g_ch2_g15_compr_clean.mp4', 'kalt_g_ch2_g16_compr_clean.mp4', 'kalt_g_ch2_g17_compr_clean.mp4', 'kalt_g_ch2_g18_compr_clean.mp4', 'kalt_g_ch2_g19_compr_clean.mp4', 'kalt_g_ch2_g1_compr_clean.mp4', 'kalt_g_ch2_g20_compr_clean.mp4', 'kalt_g_ch2_g2_compr_clean.mp4', 'kalt_g_ch2_g3_compr_clean.mp4', 'kalt_g_ch2_g4_compr_clean.mp4', 'kalt_g_ch2_g5_compr_clean.mp4', 'kalt_g_ch2_g6_compr_clean.mp4', 'kalt_g_ch2_g7_compr_clean.mp4', 'kalt_g_ch2_g8_compr_clean.mp4', 'kalt_g_ch2_g9_compr_clean.mp4', 'kalt_g_ch3_g10_compr_clean.mp4', 'kalt_g_ch3_g11_compr_clean.mp4', 'kalt_g_ch3_g12_compr_clean.mp4', 'kalt_g_ch3_g13_compr_clean.mp4', 'kalt_g_ch3_g14_compr_clean.mp4', 'kalt_g_ch3_g15_compr_clean.mp4', 'kalt_g_ch3_g16_compr_clean.mp4', 'kalt_g_ch3_g17_compr_clean.mp4', 'kalt_g_ch3_g18_compr_clean.mp4', 'kalt_g_ch3_g19_compr_clean.mp4', 'kalt_g_ch3_g1_compr_clean.mp4', 'kalt_g_ch3_g20_compr_clean.mp4', 'kalt_g_ch3_g2_compr_clean.mp4', 'kalt_g_ch3_g3_compr_clean.mp4', 'kalt_g_ch3_g4_compr_clean.mp4', 'kalt_g_ch3_g5_compr_clean.mp4', 'kalt_g_ch3_g6_compr_clean.mp4', 'kalt_g_ch3_g7_compr_clean.mp4', 'kalt_g_ch3_g8_compr_clean.mp4', 'kalt_g_ch3_g9_compr_clean.mp4', 'langsam_g_ch1_g10_compr_clean.mp4', 'langsam_g_ch1_g11_compr_clean.mp4', 'langsam_g_ch1_g12_compr_clean.mp4', 'langsam_g_ch1_g13_compr_clean.mp4', 'langsam_g_ch1_g14_compr_clean.mp4', 'langsam_g_ch1_g15_compr_clean.mp4', 'langsam_g_ch1_g16_compr_clean.mp4', 'langsam_g_ch1_g17_compr_clean.mp4', 'langsam_g_ch1_g18_compr_clean.mp4', 'langsam_g_ch1_g19_compr_clean.mp4', 'langsam_g_ch1_g1_compr_clean.mp4', 'langsam_g_ch1_g20_compr_clean.mp4', 'langsam_g_ch1_g2_compr_clean.mp4', 'langsam_g_ch1_g3_compr_clean.mp4', 'langsam_g_ch1_g4_compr_clean.mp4', 'langsam_g_ch1_g5_compr_clean.mp4', 'langsam_g_ch1_g6_compr_clean.mp4', 'langsam_g_ch1_g7_compr_clean.mp4', 'langsam_g_ch1_g8_compr_clean.mp4', 'langsam_g_ch1_g9_compr_clean.mp4', 'langsam_g_ch2_g10_compr_clean.mp4', 'langsam_g_ch2_g11_compr_clean.mp4', 'langsam_g_ch2_g12_compr_clean.mp4', 'langsam_g_ch2_g13_compr_clean.mp4', 'langsam_g_ch2_g14_compr_clean.mp4', 'langsam_g_ch2_g15_compr_clean.mp4', 'langsam_g_ch2_g16_compr_clean.mp4', 'langsam_g_ch2_g17_compr_clean.mp4', 'langsam_g_ch2_g18_compr_clean.mp4', 'langsam_g_ch2_g19_compr_clean.mp4', 'langsam_g_ch2_g1_compr_clean.mp4', 'langsam_g_ch2_g20_compr_clean.mp4', 'langsam_g_ch2_g2_compr_clean.mp4', 'langsam_g_ch2_g3_compr_clean.mp4', 'langsam_g_ch2_g4_compr_clean.mp4', 'langsam_g_ch2_g5_compr_clean.mp4', 'langsam_g_ch2_g6_compr_clean.mp4', 'langsam_g_ch2_g7_compr_clean.mp4', 'langsam_g_ch2_g8_compr_clean.mp4', 'langsam_g_ch2_g9_compr_clean.mp4', 'langsam_g_ch3_g10_compr_clean.mp4', 'langsam_g_ch3_g11_compr_clean.mp4', 'langsam_g_ch3_g12_compr_clean.mp4', 'langsam_g_ch3_g13_compr_clean.mp4', 'langsam_g_ch3_g14_compr_clean.mp4', 'langsam_g_ch3_g15_compr_clean.mp4', 'langsam_g_ch3_g16_compr_clean.mp4', 'langsam_g_ch3_g17_compr_clean.mp4', 'langsam_g_ch3_g18_compr_clean.mp4', 'langsam_g_ch3_g19_compr_clean.mp4', 'langsam_g_ch3_g1_compr_clean.mp4', 'langsam_g_ch3_g20_compr_clean.mp4', 'langsam_g_ch3_g2_compr_clean.mp4', 'langsam_g_ch3_g3_compr_clean.mp4', 'langsam_g_ch3_g4_compr_clean.mp4', 'langsam_g_ch3_g5_compr_clean.mp4', 'langsam_g_ch3_g6_compr_clean.mp4', 'langsam_g_ch3_g7_compr_clean.mp4', 'langsam_g_ch3_g8_compr_clean.mp4', 'langsam_g_ch3_g9_compr_clean.mp4', 'leise_g_ch1_g10_compr_clean.mp4', 'leise_g_ch1_g11_compr_clean.mp4', 'leise_g_ch1_g12_compr_clean.mp4', 'leise_g_ch1_g13_compr_clean.mp4', 'leise_g_ch1_g14_compr_clean.mp4', 'leise_g_ch1_g15_compr_clean.mp4', 'leise_g_ch1_g16_compr_clean.mp4', 'leise_g_ch1_g17_compr_clean.mp4', 'leise_g_ch1_g18_compr_clean.mp4', 'leise_g_ch1_g19_compr_clean.mp4', 'leise_g_ch1_g1_compr_clean.mp4', 'leise_g_ch1_g20_compr_clean.mp4', 'leise_g_ch1_g2_compr_clean.mp4', 'leise_g_ch1_g3_compr_clean.mp4', 'leise_g_ch1_g4_compr_clean.mp4', 'leise_g_ch1_g5_compr_clean.mp4', 'leise_g_ch1_g6_compr_clean.mp4', 'leise_g_ch1_g7_compr_clean.mp4', 'leise_g_ch1_g8_compr_clean.mp4', 'leise_g_ch1_g9_compr_clean.mp4', 'leise_g_ch2_g10_compr_clean.mp4', 'leise_g_ch2_g11_compr_clean.mp4', 'leise_g_ch2_g12_compr_clean.mp4', 'leise_g_ch2_g13_compr_clean.mp4', 'leise_g_ch2_g14_compr_clean.mp4', 'leise_g_ch2_g15_compr_clean.mp4', 'leise_g_ch2_g16_compr_clean.mp4', 'leise_g_ch2_g17_compr_clean.mp4', 'leise_g_ch2_g18_compr_clean.mp4', 'leise_g_ch2_g19_compr_clean.mp4', 'leise_g_ch2_g1_compr_clean.mp4', 'leise_g_ch2_g20_compr_clean.mp4', 'leise_g_ch2_g2_compr_clean.mp4', 'leise_g_ch2_g3_compr_clean.mp4', 'leise_g_ch2_g4_compr_clean.mp4', 'leise_g_ch2_g5_compr_clean.mp4', 'leise_g_ch2_g6_compr_clean.mp4', 'leise_g_ch2_g7_compr_clean.mp4', 'leise_g_ch2_g8_compr_clean.mp4', 'leise_g_ch2_g9_compr_clean.mp4', 'leise_g_ch3_g10_compr_clean.mp4', 'leise_g_ch3_g11_compr_clean.mp4', 'leise_g_ch3_g12_compr_clean.mp4', 'leise_g_ch3_g13_compr_clean.mp4', 'leise_g_ch3_g14_compr_clean.mp4', 'leise_g_ch3_g15_compr_clean.mp4', 'leise_g_ch3_g16_compr_clean.mp4', 'leise_g_ch3_g17_compr_clean.mp4', 'leise_g_ch3_g18_compr_clean.mp4', 'leise_g_ch3_g19_compr_clean.mp4', 'leise_g_ch3_g1_compr_clean.mp4', 'leise_g_ch3_g20_compr_clean.mp4', 'leise_g_ch3_g2_compr_clean.mp4', 'leise_g_ch3_g3_compr_clean.mp4', 'leise_g_ch3_g4_compr_clean.mp4', 'leise_g_ch3_g5_compr_clean.mp4', 'leise_g_ch3_g6_compr_clean.mp4', 'leise_g_ch3_g7_compr_clean.mp4', 'leise_g_ch3_g8_compr_clean.mp4', 'leise_g_ch3_g9_compr_clean.mp4', 'rennen_g_ch1_g10_compr_clean.mp4', 'rennen_g_ch1_g11_compr_clean.mp4', 'rennen_g_ch1_g12_compr_clean.mp4', 'rennen_g_ch1_g13_compr_clean.mp4', 'rennen_g_ch1_g14_compr_clean.mp4', 'rennen_g_ch1_g15_compr_clean.mp4', 'rennen_g_ch1_g16_compr_clean.mp4', 'rennen_g_ch1_g17_compr_clean.mp4', 'rennen_g_ch1_g18_compr_clean.mp4', 'rennen_g_ch1_g19_compr_clean.mp4', 'rennen_g_ch1_g1_compr_clean.mp4', 'rennen_g_ch1_g20_compr_clean.mp4', 'rennen_g_ch1_g2_compr_clean.mp4', 'rennen_g_ch1_g3_compr_clean.mp4', 'rennen_g_ch1_g4_compr_clean.mp4', 'rennen_g_ch1_g5_compr_clean.mp4', 'rennen_g_ch1_g6_compr_clean.mp4', 'rennen_g_ch1_g7_compr_clean.mp4', 'rennen_g_ch1_g8_compr_clean.mp4', 'rennen_g_ch1_g9_compr_clean.mp4', 'rennen_g_ch2_g10_compr_clean.mp4', 'rennen_g_ch2_g11_compr_clean.mp4', 'rennen_g_ch2_g12_compr_clean.mp4', 'rennen_g_ch2_g13_compr_clean.mp4', 'rennen_g_ch2_g14_compr_clean.mp4', 'rennen_g_ch2_g15_compr_clean.mp4', 'rennen_g_ch2_g16_compr_clean.mp4', 'rennen_g_ch2_g17_compr_clean.mp4', 'rennen_g_ch2_g18_compr_clean.mp4', 'rennen_g_ch2_g19_compr_clean.mp4', 'rennen_g_ch2_g1_compr_clean.mp4', 'rennen_g_ch2_g20_compr_clean.mp4', 'rennen_g_ch2_g2_compr_clean.mp4', 'rennen_g_ch2_g3_compr_clean.mp4', 'rennen_g_ch2_g4_compr_clean.mp4', 'rennen_g_ch2_g5_compr_clean.mp4', 'rennen_g_ch2_g6_compr_clean.mp4', 'rennen_g_ch2_g7_compr_clean.mp4', 'rennen_g_ch2_g8_compr_clean.mp4', 'rennen_g_ch2_g9_compr_clean.mp4', 'rennen_g_ch3_g10_compr_clean.mp4', 'rennen_g_ch3_g11_compr_clean.mp4', 'rennen_g_ch3_g12_compr_clean.mp4', 'rennen_g_ch3_g13_compr_clean.mp4', 'rennen_g_ch3_g14_compr_clean.mp4', 'rennen_g_ch3_g15_compr_clean.mp4', 'rennen_g_ch3_g16_compr_clean.mp4', 'rennen_g_ch3_g17_compr_clean.mp4', 'rennen_g_ch3_g18_compr_clean.mp4', 'rennen_g_ch3_g19_compr_clean.mp4', 'rennen_g_ch3_g1_compr_clean.mp4', 'rennen_g_ch3_g20_compr_clean.mp4', 'rennen_g_ch3_g2_compr_clean.mp4', 'rennen_g_ch3_g3_compr_clean.mp4', 'rennen_g_ch3_g4_compr_clean.mp4', 'rennen_g_ch3_g5_compr_clean.mp4', 'rennen_g_ch3_g6_compr_clean.mp4', 'rennen_g_ch3_g7_compr_clean.mp4', 'rennen_g_ch3_g8_compr_clean.mp4', 'rennen_g_ch3_g9_compr_clean.mp4']\n"
     ]
    }
   ],
   "source": [
    "# Step 0: Setting up the folders and files\n",
    "import mediapipe as mp #mediapipe\n",
    "import cv2 #opencv\n",
    "import math #basic operations\n",
    "import numpy as np #basic operations\n",
    "import pandas as pd #data wrangling\n",
    "import csv #csv saving\n",
    "import os #some basic functions for inspecting folder structure etc.\n",
    "from os import listdir\n",
    "from os.path import isfile, join\n",
    "import glob as glob\n",
    "%pip install moviepy\n",
    "import moviepy.editor as mop\n",
    "\n",
    "#list all videos in input_videofolder\n",
    "myinputpath = \"./inputvideo/\" #this is your folder with (all) your video(s)\n",
    "myoutputpath = \"./Output_Videos/\" #this is the folder where the masked videos will be saved\n",
    "#list all filenames that has .mp4 or .avi or .mov extensions\n",
    "vfiles = [f for f in listdir(myoutputpath) if isfile(join(myoutputpath, f)) and f.endswith(('.mp4', '.avi', '.mov'))]\n",
    "#vfiles = [f for f in \"./Output_Videos\"]    \n",
    "#time series output folder\n",
    "inputfol = \"./inputvideo/\"\n",
    "output = \"./Output_Videos/\"\n",
    "outputf = \"./Animated_Videos/\"\n",
    "outtputf_ts = \"./TS_processed/\"\n",
    "\n",
    "\n",
    "#check videos to be processed\n",
    "print(\"The following folder is set as the output folder where all the pose time series are stored\")\n",
    "print(os.path.abspath(outtputf_ts))\n",
    "print(\"\\n The following folder is set as the output folder for saving the masked videos \")\n",
    "print(os.path.abspath(outputf))\n",
    "print(\"\\n The following video(s) will be processed for masking: \")\n",
    "print(vfiles)"
   ]
  },
  {
   "cell_type": "markdown",
   "metadata": {},
   "source": [
    "# Step 3: Animating a video\n",
    "Now we are arriving at the fun part. We have our motion tracking performed and saved as a video (and time series), and our amplitude envelope function ready as well. Now we simply need to loop over the motion tracking video frames, and generate a plot that shows the movement speed and the envelope data for that moment, plus some time before and after. We set the time window for 4 seconds, where we show -2 and plus 2 seconds relative to the current moment in the video.\n",
    "\n",
    "Note that this does take some time rendering. This is because you need to create a plot for every frame, and write a video with the plot now added to the masked video. "
   ]
  },
  {
   "cell_type": "code",
   "execution_count": 47,
   "metadata": {},
   "outputs": [
    {
     "name": "stdout",
     "output_type": "stream",
     "text": [
      "./Output_Videos/Donner_g_ch1_g10_compr_clean.mp4\n"
     ]
    },
    {
     "name": "stderr",
     "output_type": "stream",
     "text": [
      "100%|██████████| 419/419 [01:26<00:00,  4.84it/s]\n"
     ]
    }
   ],
   "source": [
    "import tempfile\n",
    "import shutil\n",
    "import tqdm\n",
    "import cv2\n",
    "import matplotlib.pyplot as plt\n",
    "import numpy as np\n",
    "# guassian filter\n",
    "from scipy.ndimage import gaussian_filter\n",
    "\n",
    "# what is the window size in seconds\n",
    "window = 4\n",
    "\n",
    "# a function that generates a plot containing two panel time series of the envelope (panel 1) and the pose time series (panel 2) with a window of 4 seconds\n",
    "def plot_envelope_pose(body, midpoint, g1v1, g1v2, g2v1, g2v2, minbody1, maxbody1, minbody2, maxbody2):\n",
    "    # make a temporary folder\n",
    "    tempfolder = tempfile.mkdtemp()\n",
    "    fig, ax = plt.subplots(2, 1, figsize=(14, 10))\n",
    "    # selection 4 seconds from midpoint\n",
    "    start = midpoint - window/2\n",
    "    end = midpoint + window/2\n",
    "    # if start is negative, set it to 0\n",
    "    if start < 0:\n",
    "        start = 0\n",
    "    # subset the body time series and amplitude envelope based on the start and end\n",
    "    body = body[(body['time'] >= start) & (body['time'] <= end)]\n",
    "    #audio = audio[(audio['time'] >= start) & (audio['time'] <= end)]\n",
    "    # do a cross correlation between the envelope and the pose time series\n",
    "    # recenter time\n",
    "    body['time'] = body['time'] - midpoint\n",
    "    #audio['time'] = audio['time'] - midpoint\n",
    "    # Plot the amplitude envelope\n",
    "    ax[0].plot(body['time'], body[g1v1], label=g1v1, color='magenta', alpha=0.8, linewidth=4)\n",
    "    ax[0].plot(body['time'], body[g1v2], label=g1v2, color='darkblue', alpha=0.8, linewidth=4)\n",
    "    ax[0].legend() # show labels in legend\n",
    "    ax[0].legend(prop={'size': 24})\n",
    "    # Plot the pose time series with a thick line semitransparent, but different colors (black & grey)\n",
    "    ax[1].plot(body['time'], body[g2v1], label=g2v1, color='magenta', alpha=0.8, linewidth=4)\n",
    "    ax[1].plot(body['time'], body[g2v2], label=g2v2, color='darkblue', alpha=0.8, linewidth=4)\n",
    "    ax[1].set_xlabel('Time (s)', fontsize=24)\n",
    "    ax[1].legend() # show labels in legend\n",
    "    ax[1].legend(prop={'size': 24})\n",
    "    plt.tight_layout()\n",
    "    # set the x axes to centered by 0 minus and plus half the window\n",
    "    ax[0].set_xlim(-window/2, window/2)\n",
    "    ax[1].set_xlim(-window/2, window/2)\n",
    "    # add a vertical line in the plot at 0\n",
    "    ax[0].axvline(x=0, color='r', linestyle='--', linewidth=4, alpha=0.8)\n",
    "    ax[1].axvline(x=0, color='r', linestyle='--', linewidth=4, alpha=0.8)\n",
    "    # set the y axes - taken from sarka - right now it does it for each frame, but thats less ideal. \n",
    "    #minbody1 = min(body[g1v1].min(), body[g1v2].min())\n",
    "    #maxbody1 = max(body[g1v1].max(), body[g1v2].max())\n",
    "    #maxbody2 = max(body[g2v1].max(), body[g2v2].max())\n",
    "    #minbody2 = min(body[g2v1].min(), body[g2v2].min())  \n",
    "    ax[0].set_ylim(minbody1, maxbody1)\n",
    "    ax[1].set_ylim(minbody2, maxbody2)\n",
    "    # increase font size\n",
    "    for a in ax:\n",
    "        a.tick_params(axis='both', which='major', labelsize=24)\n",
    "        a.tick_params(axis='both', which='major', width=6)\n",
    "    # save the plot\n",
    "    tpf = tempfolder + 'tempfig.png'\n",
    "    plt.savefig(tpf )\n",
    "    plt.close()\n",
    "    img = cv2.imread(tpf)\n",
    "    shutil.rmtree(tempfolder)\n",
    "    return img\n",
    "\n",
    "\n",
    "# we loop over the video files and generate animated videos (with and without sound)\n",
    "for vidf in vfiles:\t\n",
    "    videofilename = output + vidf\n",
    "    outputfilename = outputf + vidf\n",
    "    #audiofilename = inputfol + vidf.replace(\".mp4\", \".wav\")\n",
    "    #videofilenamemasked = videofilename.replace(\".mp4\", \"_masked.mp4\")\n",
    "    print(videofilename)\n",
    "    # Get the amplitude envelope\n",
    "    #ampv, sr = amp_envelope(audiofilename)\n",
    "    # get the raw audio\n",
    "    #rawaudio, sr = librosa.load(audiofilename, sr=None)\n",
    "    # save the audio and envelope in a pandas with time in seconds\n",
    "    #audio = pd.DataFrame({'time': np.arange(0, len(rawaudio)/sr, 1/sr), 'audio': rawaudio, 'envelope': ampv})\n",
    "    # Load the pose time series\n",
    "    #body = pd.read_csv(outtputf_ts + vidf[:-4] + '_body.csv')\n",
    "    body = pd.read_csv(outtputf_ts + vidf[:-4] + \".csv\")\n",
    "    # now calculate the right hand and left hand speed\n",
    "    body['time'] = body['time']/1000\n",
    "    g1v1 = 'LEFT_WRIST_speed'\t\n",
    "    g1v2 = 'RIGHT_WRIST_speed'\n",
    "    g2v1 = 'Y_LEFT_WRIST_velocity'\n",
    "    g2v2 = 'Y_RIGHT_WRIST_velocity'\n",
    "    minbody1 = min(body[g1v1].min(), body[g1v2].min())\n",
    "    maxbody1 = max(body[g1v1].max(), body[g1v2].max())\n",
    "    maxbody2 = max(body[g2v1].max(), body[g2v2].max())\n",
    "    minbody2 = min(body[g2v1].min(), body[g2v2].min()) \n",
    "    # interpolate nan using lambda, first set nan to NaN\n",
    "    #body = body.replace('nan', np.nan)\n",
    "    #  # approx nas using lambda\n",
    "    #body = body.apply(lambda x: x.interpolate(method='linear') if x.name != 'time' else x)\n",
    "    # smooth all the time series using lambda using guassian\n",
    "    #body = body.apply(lambda x: gaussian_filter(x, 3) if x.name != 'time' else x)\n",
    "    # calculate the speed of the left and right hand\n",
    "    #body['left_wrist_speed'] = np.insert(np.sqrt(np.diff(body['X_LEFT_WRIST'])**2 + np.diff(body['Y_LEFT_WRIST'])**2),0,0)\n",
    "    #body['right_wrist_speed'] = np.insert(np.sqrt(np.diff(body['X_RIGHT_WRIST'].diff())**2 + np.diff(body['Y_RIGHT_WRIST'])**2),0,0)\n",
    "        # Normalize the speed to 0-1 by the min/max right hand speed \n",
    "    #body['left_wrist_speed'] = (body['left_wrist_speed'] - np.min(body['left_wrist_speed'])) / (np.max(body['left_wrist_speed']) - np.min(body['left_wrist_speed']))\n",
    "    #body['right_wrist_speed'] = (body['right_wrist_speed'] - np.min(body['right_wrist_speed'])) / (np.max(body['right_wrist_speed']) - np.min(body['right_wrist_speed']))\n",
    "    # load the video in opencv and prepare to loop over it\n",
    "    capture = cv2.VideoCapture(videofilename)\n",
    "    frameWidth = capture.get(cv2.CAP_PROP_FRAME_WIDTH)\n",
    "    frameHeight = capture.get(cv2.CAP_PROP_FRAME_HEIGHT)\n",
    "    fps = capture.get(cv2.CAP_PROP_FPS)\n",
    "    # out\n",
    "    fourcc = cv2.VideoWriter_fourcc(*'MP4V')\n",
    "    out = cv2.VideoWriter(outputfilename[:-4] + '_animated.mp4', fourcc, fps,  (int(frameWidth)*4, int(frameHeight)))\n",
    "    # loop over the video\n",
    "        # loop through the video and add the plot to the video on left upper corner in small inset\n",
    "    frame_number = 0 \n",
    "    # with progress bar\n",
    "    for i in tqdm.tqdm(range(int(capture.get(cv2.CAP_PROP_FRAME_COUNT)))):\n",
    "        ret, frame = capture.read()\n",
    "        if ret == True:\n",
    "            # change the variable names in the fuction below to graph different variables\n",
    "            img = plot_envelope_pose(body, frame_number/fps, g1v1, g1v2, g2v1, g2v2, minbody1, maxbody1, minbody2, maxbody2)\n",
    "            # resize the image\n",
    "            img = cv2.resize(img, (int(frameWidth*3), int(frameHeight)))\n",
    "            # lets put the plot on the right side of the frame using concat\n",
    "            frame = np.concatenate([frame, img], axis=1)\n",
    "            out.write(frame)\n",
    "            frame_number += 1\n",
    "            # also show the frame (optional)\n",
    "            #cv2.imshow('Frame', frame)\n",
    "            if cv2.waitKey(1) & 0xFF == ord('q'):\n",
    "                break\n",
    "        else:\n",
    "            break\n",
    "    capture.release()\n",
    "    out.release()    \n",
    "    cv2.destroyAllWindows()\n",
    "    break"
   ]
  },
  {
   "cell_type": "code",
   "execution_count": 30,
   "metadata": {},
   "outputs": [
    {
     "data": {
      "text/plain": [
       "'./Testing_Animated_Videos/'"
      ]
     },
     "execution_count": 30,
     "metadata": {},
     "output_type": "execute_result"
    }
   ],
   "source": [
    "outputf"
   ]
  },
  {
   "cell_type": "code",
   "execution_count": 38,
   "metadata": {},
   "outputs": [
    {
     "ename": "KeyError",
     "evalue": "'video_fps'",
     "output_type": "error",
     "traceback": [
      "\u001b[1;31m---------------------------------------------------------------------------\u001b[0m",
      "\u001b[1;31mKeyError\u001b[0m                                  Traceback (most recent call last)",
      "Cell \u001b[1;32mIn[38], line 4\u001b[0m\n\u001b[0;32m      2\u001b[0m videofilename \u001b[38;5;241m=\u001b[39m outputf \u001b[38;5;241m+\u001b[39m vidf[:\u001b[38;5;241m-\u001b[39m\u001b[38;5;241m4\u001b[39m] \u001b[38;5;241m+\u001b[39m \u001b[38;5;124m'\u001b[39m\u001b[38;5;124m_animated.mp4\u001b[39m\u001b[38;5;124m'\u001b[39m\n\u001b[0;32m      3\u001b[0m \u001b[38;5;66;03m#audiofilename = inputfol + vidf.replace(\".mp4\", \".wav\")\u001b[39;00m\n\u001b[1;32m----> 4\u001b[0m video \u001b[38;5;241m=\u001b[39m \u001b[43mmop\u001b[49m\u001b[38;5;241;43m.\u001b[39;49m\u001b[43mVideoFileClip\u001b[49m\u001b[43m(\u001b[49m\u001b[43mvideofilename\u001b[49m\u001b[43m)\u001b[49m\n\u001b[0;32m      5\u001b[0m \u001b[38;5;66;03m#audio = mop.AudioFileClip(audiofilename)\u001b[39;00m\n\u001b[0;32m      6\u001b[0m \u001b[38;5;66;03m#video = video.set_audio(audio)\u001b[39;00m\n\u001b[0;32m      7\u001b[0m video\u001b[38;5;241m.\u001b[39mclose()\n",
      "File \u001b[1;32mc:\\Users\\kadava\\AppData\\Local\\anaconda3\\envs\\IteratedLearning\\Lib\\site-packages\\moviepy\\video\\io\\VideoFileClip.py:88\u001b[0m, in \u001b[0;36mVideoFileClip.__init__\u001b[1;34m(self, filename, has_mask, audio, audio_buffersize, target_resolution, resize_algorithm, audio_fps, audio_nbytes, verbose, fps_source)\u001b[0m\n\u001b[0;32m     86\u001b[0m \u001b[38;5;66;03m# Make a reader\u001b[39;00m\n\u001b[0;32m     87\u001b[0m pix_fmt \u001b[38;5;241m=\u001b[39m \u001b[38;5;124m\"\u001b[39m\u001b[38;5;124mrgba\u001b[39m\u001b[38;5;124m\"\u001b[39m \u001b[38;5;28;01mif\u001b[39;00m has_mask \u001b[38;5;28;01melse\u001b[39;00m \u001b[38;5;124m\"\u001b[39m\u001b[38;5;124mrgb24\u001b[39m\u001b[38;5;124m\"\u001b[39m\n\u001b[1;32m---> 88\u001b[0m \u001b[38;5;28mself\u001b[39m\u001b[38;5;241m.\u001b[39mreader \u001b[38;5;241m=\u001b[39m \u001b[43mFFMPEG_VideoReader\u001b[49m\u001b[43m(\u001b[49m\u001b[43mfilename\u001b[49m\u001b[43m,\u001b[49m\u001b[43m \u001b[49m\u001b[43mpix_fmt\u001b[49m\u001b[38;5;241;43m=\u001b[39;49m\u001b[43mpix_fmt\u001b[49m\u001b[43m,\u001b[49m\n\u001b[0;32m     89\u001b[0m \u001b[43m                                 \u001b[49m\u001b[43mtarget_resolution\u001b[49m\u001b[38;5;241;43m=\u001b[39;49m\u001b[43mtarget_resolution\u001b[49m\u001b[43m,\u001b[49m\n\u001b[0;32m     90\u001b[0m \u001b[43m                                 \u001b[49m\u001b[43mresize_algo\u001b[49m\u001b[38;5;241;43m=\u001b[39;49m\u001b[43mresize_algorithm\u001b[49m\u001b[43m,\u001b[49m\n\u001b[0;32m     91\u001b[0m \u001b[43m                                 \u001b[49m\u001b[43mfps_source\u001b[49m\u001b[38;5;241;43m=\u001b[39;49m\u001b[43mfps_source\u001b[49m\u001b[43m)\u001b[49m\n\u001b[0;32m     93\u001b[0m \u001b[38;5;66;03m# Make some of the reader's attributes accessible from the clip\u001b[39;00m\n\u001b[0;32m     94\u001b[0m \u001b[38;5;28mself\u001b[39m\u001b[38;5;241m.\u001b[39mduration \u001b[38;5;241m=\u001b[39m \u001b[38;5;28mself\u001b[39m\u001b[38;5;241m.\u001b[39mreader\u001b[38;5;241m.\u001b[39mduration\n",
      "File \u001b[1;32mc:\\Users\\kadava\\AppData\\Local\\anaconda3\\envs\\IteratedLearning\\Lib\\site-packages\\moviepy\\video\\io\\ffmpeg_reader.py:37\u001b[0m, in \u001b[0;36mFFMPEG_VideoReader.__init__\u001b[1;34m(self, filename, print_infos, bufsize, pix_fmt, check_duration, target_resolution, resize_algo, fps_source)\u001b[0m\n\u001b[0;32m     34\u001b[0m \u001b[38;5;28mself\u001b[39m\u001b[38;5;241m.\u001b[39mproc \u001b[38;5;241m=\u001b[39m \u001b[38;5;28;01mNone\u001b[39;00m\n\u001b[0;32m     35\u001b[0m infos \u001b[38;5;241m=\u001b[39m ffmpeg_parse_infos(filename, print_infos, check_duration,\n\u001b[0;32m     36\u001b[0m                            fps_source)\n\u001b[1;32m---> 37\u001b[0m \u001b[38;5;28mself\u001b[39m\u001b[38;5;241m.\u001b[39mfps \u001b[38;5;241m=\u001b[39m \u001b[43minfos\u001b[49m\u001b[43m[\u001b[49m\u001b[38;5;124;43m'\u001b[39;49m\u001b[38;5;124;43mvideo_fps\u001b[39;49m\u001b[38;5;124;43m'\u001b[39;49m\u001b[43m]\u001b[49m\n\u001b[0;32m     38\u001b[0m \u001b[38;5;28mself\u001b[39m\u001b[38;5;241m.\u001b[39msize \u001b[38;5;241m=\u001b[39m infos[\u001b[38;5;124m'\u001b[39m\u001b[38;5;124mvideo_size\u001b[39m\u001b[38;5;124m'\u001b[39m]\n\u001b[0;32m     39\u001b[0m \u001b[38;5;28mself\u001b[39m\u001b[38;5;241m.\u001b[39mrotation \u001b[38;5;241m=\u001b[39m infos[\u001b[38;5;124m'\u001b[39m\u001b[38;5;124mvideo_rotation\u001b[39m\u001b[38;5;124m'\u001b[39m]\n",
      "\u001b[1;31mKeyError\u001b[0m: 'video_fps'"
     ]
    }
   ],
   "source": [
    "for vidf in vfiles:\n",
    "    videofilename = outputf + vidf[:-4] + '_animated.mp4'\n",
    "    #audiofilename = inputfol + vidf.replace(\".mp4\", \".wav\")\n",
    "    video = mop.VideoFileClip(videofilename)\n",
    "    #audio = mop.AudioFileClip(audiofilename)\n",
    "    #video = video.set_audio(audio)\n",
    "    video.close()\n",
    "    break\n",
    "\n",
    "# show the video in the notebook\n",
    "from IPython.display import Video\n",
    "Video(outputf + vfiles[0][:-4] + '_animated.mp4', width=800, embed = True)"
   ]
  },
  {
   "cell_type": "code",
   "execution_count": 31,
   "metadata": {},
   "outputs": [
    {
     "data": {
      "text/html": [
       "<video controls  width=\"800\" >\n",
       " <source src=\"data:video/mp4;base64,AAAAHGZ0eXBpc29tAAACAGlzb21pc28ybXA0MQAAAAhmcmVlAAAACG1kYXQAAADWbW9vdgAAAGxtdmhkAAAAAAAAAAAAAAAAAAAD6AAAAAAAAQAAAQAAAAAAAAAAAAAAAAEAAAAAAAAAAAAAAAAAAAABAAAAAAAAAAAAAAAAAABAAAAAAAAAAAAAAAAAAAAAAAAAAAAAAAAAAAAAAAAAAgAAAGJ1ZHRhAAAAWm1ldGEAAAAAAAAAIWhkbHIAAAAAAAAAAG1kaXJhcHBsAAAAAAAAAAAAAAAALWlsc3QAAAAlqXRvbwAAAB1kYXRhAAAAAQAAAABMYXZmNTguNzYuMTAw\" type=\"video/mp4\">\n",
       " Your browser does not support the video tag.\n",
       " </video>"
      ],
      "text/plain": [
       "<IPython.core.display.Video object>"
      ]
     },
     "execution_count": 31,
     "metadata": {},
     "output_type": "execute_result"
    }
   ],
   "source": [
    "from IPython.display import Video\n",
    "Video(outputf + vfiles[0][:-4] + '_animated.mp4', width=800, embed = True)"
   ]
  }
 ],
 "metadata": {
  "kernelspec": {
   "display_name": "IteratedLearning",
   "language": "python",
   "name": "python3"
  },
  "language_info": {
   "codemirror_mode": {
    "name": "ipython",
    "version": 3
   },
   "file_extension": ".py",
   "mimetype": "text/x-python",
   "name": "python",
   "nbconvert_exporter": "python",
   "pygments_lexer": "ipython3",
   "version": "3.12.4"
  }
 },
 "nbformat": 4,
 "nbformat_minor": 2
}
