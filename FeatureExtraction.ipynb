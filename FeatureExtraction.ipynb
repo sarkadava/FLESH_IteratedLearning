{
 "cells": [
  {
   "cell_type": "markdown",
   "metadata": {},
   "source": [
    "# FEATURE EXTRACTION"
   ]
  },
  {
   "cell_type": "code",
   "execution_count": 27,
   "metadata": {},
   "outputs": [
    {
     "name": "stdout",
     "output_type": "stream",
     "text": [
      "/Users/gillianrosenberg/Documents/GitHub/FLESH_IteratedLearning\n",
      "/Users/gillianrosenberg/Documents/GitHub/FLESH_IteratedLearning/TS_movement/\n"
     ]
    }
   ],
   "source": [
    "# you start empty df\n",
    "# loop over mt files\n",
    "# create subdf that has only movement for the particular tier\n",
    "# and then you calculate for this file whatever you want\n",
    "# and append it to the empty df with the trialID \n",
    "import os\n",
    "import glob\n",
    "import pandas as pd\n",
    "import numpy as np\n",
    "import math\n",
    "\n",
    "import scipy\n",
    "import matplotlib.pyplot as plt\n",
    "import matplotlib.pyplot as plt\n",
    "\n",
    "import math\n",
    "\n",
    "import xml.etree.ElementTree as ET\n",
    "\n",
    "\n",
    "curfolder = os.getcwd()\n",
    "print(curfolder)\n",
    "\n",
    "mtfolder = curfolder + '/TS_movement/'\n",
    "print(mtfolder)\n",
    "\n",
    "mtfiles = glob.glob(mtfolder + '*.csv')\n",
    "\n",
    "demographics = curfolder + \"/LNDW.csv\"\n",
    "\n",
    "\n",
    "\n",
    "# create an empty dataframe where I will store all of the features.\n",
    "\n"
   ]
  },
  {
   "cell_type": "code",
   "execution_count": 28,
   "metadata": {},
   "outputs": [],
   "source": [
    "# gesture space calculator: \n",
    "\n",
    "def gesturespace(sample, joint, side, movement_type): \n",
    "    fileID = sample[\"fileID\"]\n",
    "    fileID = fileID.replace('_comr.mp4', '')\n",
    "    #get the subdf for where there is only arm movement. \n",
    "    total_movement = int(0)\n",
    "    movement_sample = sample[sample[movement_type] == 'movement']\n",
    "    X_std = np.std(movement_sample[\"X_\" + side + \"_\"+ joint])\n",
    "    Y_std = np.std(movement_sample[\"Y_\" + side + \"_\"+ joint])\n",
    "    Z_std = np.std(movement_sample[\"Z_\" + side + \"_\"+ joint])\n",
    "    total_movement = X_std + Y_std + Z_std\n",
    "    return total_movement\n",
    "\n"
   ]
  },
  {
   "cell_type": "code",
   "execution_count": 29,
   "metadata": {},
   "outputs": [],
   "source": [
    "# creates the dataframe of features\n",
    "featuredf = pd.DataFrame()\n",
    "\n",
    "# gets the survey information\n",
    "demographics_read = pd.read_csv(demographics)\n",
    "\n",
    "# adds survey columns to the features csv file\n",
    "columns_to_add = demographics_read.columns\n",
    "for col in columns_to_add:\n",
    "    featuredf[col] = pd.NA\n"
   ]
  },
  {
   "cell_type": "markdown",
   "metadata": {},
   "source": [
    "# Big For Loop For Feature Extraction"
   ]
  },
  {
   "cell_type": "code",
   "execution_count": null,
   "metadata": {},
   "outputs": [],
   "source": [
    "# big loop to loop through all of the files and extract features\n",
    "\n",
    "\n",
    "count = 0\n",
    "for file in mtfiles:\n",
    "    print(file)\n",
    "    sample = pd.read_csv(file)\n",
    "\n",
    "    # get the fileID \n",
    "    featuredf.loc[count, \"fileID\"] = (sample[\"fileID\"])[0]\n",
    "\n",
    "    # get the chainID and the participantID\n",
    "    featuredf.loc[count, \"chainID\"] = sample[\"participantID\"][0]\n",
    "    chainID = featuredf[\"chainID\"][count]\n",
    "    split_string = chainID.split('ch')[1]\n",
    "    split_string = split_string.split('g')\n",
    "    chain_num = split_string[0]\n",
    "    gen_num = split_string[1]\n",
    "    participantID = int(chain_num) * int(gen_num)\n",
    "    featuredf.loc[count, \"participantID\"] = participantID\n",
    "\n",
    "    # get the demographic information from the survey and puts it in correct row in featuredf \n",
    "    matching_rows = demographics_read[demographics_read[\"Q1\"] == str(int(participantID))]\n",
    "    if len(matching_rows) >0:\n",
    "        demographic_row = matching_rows.iloc[0]\n",
    "        matching_row = demographics_read[demographics_read[\"Q1\"] == str(int(participantID))]\n",
    "        featuredf.loc[count, columns_to_add] = matching_row.iloc[0].values\n",
    "    else:\n",
    "        print(\"no matching demographics row\")\n",
    "\n",
    "    #left arm\n",
    "    featuredf[\"left_index_movement\"] = gesturespace(sample, \"INDEX\", \"LEFT\", \"arms\")\n",
    "    featuredf[\"left_wrist_movement\"] = gesturespace(sample, \"WRIST\", \"LEFT\", \"arms\")\n",
    "    featuredf[\"left_elbow_movement\"] = gesturespace(sample, \"ELBOW\", \"LEFT\", \"arms\")\n",
    "    featuredf[\"total_left_arm_movement\"] = featuredf[\"left_index_movement\"] + featuredf[\"left_wrist_movement\"] + featuredf[\"left_elbow_movement\"]\n",
    "\n",
    "    # right arm\n",
    "    featuredf[\"right_index_movement\"] = gesturespace(sample, \"INDEX\", \"RIGHT\", \"arms\")\n",
    "    featuredf[\"right_wrist_movement\"] = gesturespace(sample, \"WRIST\", \"RIGHT\", \"arms\")\n",
    "    featuredf[\"right_elbow_movement\"] = gesturespace(sample, \"ELBOW\", \"RIGHT\", \"arms\")\n",
    "    featuredf[\"total_right_arm_movement\"] = featuredf[\"right_index_movement\"] + featuredf[\"right_wrist_movement\"] + featuredf[\"right_elbow_movement\"]\n",
    "\n",
    "    # left leg\n",
    "    featuredf[\"left_ankle_movement\"] = gesturespace(sample, \"ANKLE\", \"LEFT\", \"arms\")\n",
    "    featuredf[\"left_wrist_movement\"] = gesturespace(sample, \"KNEE\", \"LEFT\", \"arms\")\n",
    "    featuredf[\"left_elbow_movement\"] = gesturespace(sample, \"HIP\", \"LEFT\", \"arms\")\n",
    "    featuredf[\"total_left_arm_movement\"] = featuredf[\"left_index_movement\"] + featuredf[\"left_wrist_movement\"] + featuredf[\"left_elbow_movement\"]\n",
    "\n",
    "    count = count +1\n",
    "    break"
   ]
  },
  {
   "cell_type": "code",
   "execution_count": null,
   "metadata": {},
   "outputs": [],
   "source": [
    "featuredf"
   ]
  },
  {
   "cell_type": "markdown",
   "metadata": {},
   "source": [
    "# feature extraction for a single file"
   ]
  },
  {
   "cell_type": "code",
   "execution_count": 30,
   "metadata": {},
   "outputs": [
    {
     "name": "stdout",
     "output_type": "stream",
     "text": [
      "/Users/gillianrosenberg/Documents/GitHub/FLESH_IteratedLearning/TS_movement/Donner_g_ch2_g1_compr.eaf.csv\n"
     ]
    }
   ],
   "source": [
    "file = \"/Users/gillianrosenberg/Documents/GitHub/FLESH_IteratedLearning/TS_movement/Donner_g_ch2_g1_compr.eaf.csv\"\n",
    "\n",
    "count = 1\n",
    "# get the sample\n",
    "print(file)\n",
    "sample = pd.read_csv(file)\n",
    "\n",
    "# get the fileID \n",
    "featuredf.loc[count, \"fileID\"] = (sample[\"fileID\"])[0]\n",
    "\n",
    "# get the chainID and the participantID\n",
    "featuredf.loc[count, \"chainID\"] = sample[\"participantID\"][0]\n",
    "chainID = featuredf[\"chainID\"][count]\n",
    "split_string = chainID.split('ch')[1]\n",
    "split_string = split_string.split('g')\n",
    "chain_num = split_string[0]\n",
    "gen_num = split_string[1]\n",
    "participantID = int(chain_num) * int(gen_num)\n",
    "featuredf.loc[count, \"participantID\"] = participantID\n",
    "\n",
    "# get the demographic information from the survey and puts it in correct row in featuredf \n",
    "matching_rows = demographics_read[demographics_read[\"Q1\"] == str(int(participantID))]\n",
    "if len(matching_rows) >0:\n",
    "    demographic_row = matching_rows.iloc[0]\n",
    "    matching_row = demographics_read[demographics_read[\"Q1\"] == str(int(participantID))]\n",
    "    featuredf.loc[count, columns_to_add] = matching_row.iloc[0].values\n",
    "else:\n",
    "    print(\"no matching demographics row\")\n",
    "\n",
    "\n",
    "# gesture space processing\n",
    "\n",
    "#left arm\n",
    "featuredf[\"left_index_movement\"] = gesturespace(sample, \"INDEX\", \"LEFT\", \"arms\")\n",
    "featuredf[\"left_wrist_movement\"] = gesturespace(sample, \"WRIST\", \"LEFT\", \"arms\")\n",
    "featuredf[\"left_elbow_movement\"] = gesturespace(sample, \"ELBOW\", \"LEFT\", \"arms\")\n",
    "featuredf[\"total_left_arm_movement\"] = featuredf[\"left_index_movement\"] + featuredf[\"left_wrist_movement\"] + featuredf[\"left_elbow_movement\"]\n",
    "\n",
    "# right arm\n",
    "featuredf[\"right_index_movement\"] = gesturespace(sample, \"INDEX\", \"RIGHT\", \"arms\")\n",
    "featuredf[\"right_wrist_movement\"] = gesturespace(sample, \"WRIST\", \"RIGHT\", \"arms\")\n",
    "featuredf[\"right_elbow_movement\"] = gesturespace(sample, \"ELBOW\", \"RIGHT\", \"arms\")\n",
    "featuredf[\"total_right_arm_movement\"] = featuredf[\"right_index_movement\"] + featuredf[\"right_wrist_movement\"] + featuredf[\"right_elbow_movement\"]\n",
    "\n",
    "# left leg\n",
    "featuredf[\"left_ankle_movement\"] = gesturespace(sample, \"ANKLE\", \"LEFT\", \"lower_body\")\n",
    "featuredf[\"left_knee_movement\"] = gesturespace(sample, \"KNEE\", \"LEFT\", \"lower_body\")\n",
    "featuredf[\"left_hip_movement\"] = gesturespace(sample, \"HIP\", \"LEFT\", \"lower_body\")\n",
    "featuredf[\"total_left_leg_movement\"] = featuredf[\"left_ankle_movement\"] + featuredf[\"left_knee_movement\"] + featuredf[\"left_hip_movement\"]\n",
    "\n",
    "\n",
    "\n"
   ]
  },
  {
   "cell_type": "code",
   "execution_count": 31,
   "metadata": {},
   "outputs": [
    {
     "data": {
      "text/html": [
       "<div>\n",
       "<style scoped>\n",
       "    .dataframe tbody tr th:only-of-type {\n",
       "        vertical-align: middle;\n",
       "    }\n",
       "\n",
       "    .dataframe tbody tr th {\n",
       "        vertical-align: top;\n",
       "    }\n",
       "\n",
       "    .dataframe thead th {\n",
       "        text-align: right;\n",
       "    }\n",
       "</style>\n",
       "<table border=\"1\" class=\"dataframe\">\n",
       "  <thead>\n",
       "    <tr style=\"text-align: right;\">\n",
       "      <th></th>\n",
       "      <th>StartDate</th>\n",
       "      <th>EndDate</th>\n",
       "      <th>Status</th>\n",
       "      <th>IPAddress</th>\n",
       "      <th>Progress</th>\n",
       "      <th>Duration (in seconds)</th>\n",
       "      <th>Finished</th>\n",
       "      <th>RecordedDate</th>\n",
       "      <th>ResponseId</th>\n",
       "      <th>RecipientLastName</th>\n",
       "      <th>...</th>\n",
       "      <th>left_elow_movement</th>\n",
       "      <th>total_left_arm_movement</th>\n",
       "      <th>right_index_movement</th>\n",
       "      <th>right_wrist_movement</th>\n",
       "      <th>right_elow_movement</th>\n",
       "      <th>total_right_arm_movement</th>\n",
       "      <th>left_ankle_movement</th>\n",
       "      <th>left_knee_movement</th>\n",
       "      <th>left_hip_movement</th>\n",
       "      <th>total_left_leg_movement</th>\n",
       "    </tr>\n",
       "  </thead>\n",
       "  <tbody>\n",
       "    <tr>\n",
       "      <th>1</th>\n",
       "      <td>2024-06-22 17:14:18</td>\n",
       "      <td>2024-06-22 17:16:26</td>\n",
       "      <td>IP Address</td>\n",
       "      <td>109.40.242.194</td>\n",
       "      <td>100</td>\n",
       "      <td>127</td>\n",
       "      <td>True</td>\n",
       "      <td>2024-06-22 17:16:26</td>\n",
       "      <td>R_2KIpvLjRioa2KCq</td>\n",
       "      <td>NaN</td>\n",
       "      <td>...</td>\n",
       "      <td>NaN</td>\n",
       "      <td>NaN</td>\n",
       "      <td>NaN</td>\n",
       "      <td>NaN</td>\n",
       "      <td>NaN</td>\n",
       "      <td>NaN</td>\n",
       "      <td>0</td>\n",
       "      <td>0</td>\n",
       "      <td>0</td>\n",
       "      <td>0</td>\n",
       "    </tr>\n",
       "  </tbody>\n",
       "</table>\n",
       "<p>1 rows × 40 columns</p>\n",
       "</div>"
      ],
      "text/plain": [
       "             StartDate              EndDate      Status       IPAddress  \\\n",
       "1  2024-06-22 17:14:18  2024-06-22 17:16:26  IP Address  109.40.242.194   \n",
       "\n",
       "  Progress Duration (in seconds) Finished         RecordedDate  \\\n",
       "1      100                   127     True  2024-06-22 17:16:26   \n",
       "\n",
       "          ResponseId RecipientLastName  ... left_elow_movement  \\\n",
       "1  R_2KIpvLjRioa2KCq               NaN  ...                NaN   \n",
       "\n",
       "  total_left_arm_movement right_index_movement right_wrist_movement  \\\n",
       "1                     NaN                  NaN                  NaN   \n",
       "\n",
       "  right_elow_movement total_right_arm_movement left_ankle_movement  \\\n",
       "1                 NaN                      NaN                   0   \n",
       "\n",
       "  left_knee_movement left_hip_movement total_left_leg_movement  \n",
       "1                  0                 0                       0  \n",
       "\n",
       "[1 rows x 40 columns]"
      ]
     },
     "execution_count": 31,
     "metadata": {},
     "output_type": "execute_result"
    }
   ],
   "source": [
    "featuredf"
   ]
  },
  {
   "cell_type": "code",
   "execution_count": null,
   "metadata": {},
   "outputs": [],
   "source": [
    "total_movement_index = gesturespace(file, \"INDEX\", \"LEFT\", \"arms\")\n",
    "total_movement_wrist = gesturespace(file, \"WRIST\", \"LEFT\", \"arms\")\n",
    "total_movement_elbow = gesturespace(file, \"ELBOW\", \"LEFT\", \"arms\")\n",
    "print(total_movement_index)\n",
    "print(total_movement_wrist)\n",
    "print(total_movement_elbow)\n",
    "total_arm_movement = total_movement_index + total_movement_wrist + total_movement_elbow\n",
    "print(total_arm_movement)\n"
   ]
  },
  {
   "cell_type": "code",
   "execution_count": 35,
   "metadata": {},
   "outputs": [
    {
     "data": {
      "text/html": [
       "<div>\n",
       "<style scoped>\n",
       "    .dataframe tbody tr th:only-of-type {\n",
       "        vertical-align: middle;\n",
       "    }\n",
       "\n",
       "    .dataframe tbody tr th {\n",
       "        vertical-align: top;\n",
       "    }\n",
       "\n",
       "    .dataframe thead th {\n",
       "        text-align: right;\n",
       "    }\n",
       "</style>\n",
       "<table border=\"1\" class=\"dataframe\">\n",
       "  <thead>\n",
       "    <tr style=\"text-align: right;\">\n",
       "      <th></th>\n",
       "      <th>fileID</th>\n",
       "      <th>chainID</th>\n",
       "      <th>participantID</th>\n",
       "    </tr>\n",
       "  </thead>\n",
       "  <tbody>\n",
       "    <tr>\n",
       "      <th>0</th>\n",
       "      <td>Donner_g_ch1_g10_compr.mp4</td>\n",
       "      <td>ch1g10</td>\n",
       "      <td>10.0</td>\n",
       "    </tr>\n",
       "    <tr>\n",
       "      <th>1</th>\n",
       "      <td>Donner_g_ch2_g10_compr.mp4</td>\n",
       "      <td>ch2g10</td>\n",
       "      <td>20.0</td>\n",
       "    </tr>\n",
       "    <tr>\n",
       "      <th>2</th>\n",
       "      <td>Donner_g_ch3_g10_compr.mp4</td>\n",
       "      <td>ch3g10</td>\n",
       "      <td>30.0</td>\n",
       "    </tr>\n",
       "  </tbody>\n",
       "</table>\n",
       "</div>"
      ],
      "text/plain": [
       "                       fileID chainID  participantID\n",
       "0  Donner_g_ch1_g10_compr.mp4  ch1g10           10.0\n",
       "1  Donner_g_ch2_g10_compr.mp4  ch2g10           20.0\n",
       "2  Donner_g_ch3_g10_compr.mp4  ch3g10           30.0"
      ]
     },
     "execution_count": 35,
     "metadata": {},
     "output_type": "execute_result"
    }
   ],
   "source": [
    "featuredf"
   ]
  }
 ],
 "metadata": {
  "kernelspec": {
   "display_name": "flesh_thesis",
   "language": "python",
   "name": "python3"
  },
  "language_info": {
   "codemirror_mode": {
    "name": "ipython",
    "version": 3
   },
   "file_extension": ".py",
   "mimetype": "text/x-python",
   "name": "python",
   "nbconvert_exporter": "python",
   "pygments_lexer": "ipython3",
   "version": "3.12.8"
  }
 },
 "nbformat": 4,
 "nbformat_minor": 2
}
